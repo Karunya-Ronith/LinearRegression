{
 "cells": [
  {
   "attachments": {},
   "cell_type": "markdown",
   "metadata": {},
   "source": [
    "### Linear Regression model to predict the test cricket runs of player using WTC 2019-2022 dataset"
   ]
  },
  {
   "cell_type": "markdown",
   "metadata": {},
   "source": [
    "Importing packages"
   ]
  },
  {
   "cell_type": "code",
   "execution_count": 1,
   "metadata": {},
   "outputs": [],
   "source": [
    "import pandas as pd\n",
    "import seaborn as sns\n",
    "import matplotlib.pyplot as plt\n",
    "\n",
    "sns.set()\n",
    "\n",
    "from sklearn.linear_model import LinearRegression\n",
    "from sklearn.model_selection import train_test_split\n",
    "from sklearn.preprocessing import StandardScaler\n",
    "from sklearn.metrics import mean_squared_error\n",
    "from sklearn.metrics import r2_score\n",
    "\n",
    "import math"
   ]
  },
  {
   "cell_type": "markdown",
   "metadata": {},
   "source": [
    "Reading the Data"
   ]
  },
  {
   "cell_type": "code",
   "execution_count": 31,
   "metadata": {},
   "outputs": [
    {
     "data": {
      "text/html": [
       "<div>\n",
       "<style scoped>\n",
       "    .dataframe tbody tr th:only-of-type {\n",
       "        vertical-align: middle;\n",
       "    }\n",
       "\n",
       "    .dataframe tbody tr th {\n",
       "        vertical-align: top;\n",
       "    }\n",
       "\n",
       "    .dataframe thead th {\n",
       "        text-align: right;\n",
       "    }\n",
       "</style>\n",
       "<table border=\"1\" class=\"dataframe\">\n",
       "  <thead>\n",
       "    <tr style=\"text-align: right;\">\n",
       "      <th></th>\n",
       "      <th>Mat</th>\n",
       "      <th>Inns</th>\n",
       "      <th>NO</th>\n",
       "      <th>Runs</th>\n",
       "      <th>Ave</th>\n",
       "      <th>BF</th>\n",
       "      <th>SR</th>\n",
       "      <th>100</th>\n",
       "      <th>50</th>\n",
       "      <th>0</th>\n",
       "      <th>4s</th>\n",
       "      <th>6s</th>\n",
       "    </tr>\n",
       "  </thead>\n",
       "  <tbody>\n",
       "    <tr>\n",
       "      <th>count</th>\n",
       "      <td>50.000000</td>\n",
       "      <td>50.000000</td>\n",
       "      <td>50.000000</td>\n",
       "      <td>50.000000</td>\n",
       "      <td>50.000000</td>\n",
       "      <td>50.0000</td>\n",
       "      <td>50.000000</td>\n",
       "      <td>50.00000</td>\n",
       "      <td>50.000000</td>\n",
       "      <td>50.000000</td>\n",
       "      <td>50.000000</td>\n",
       "      <td>50.000000</td>\n",
       "    </tr>\n",
       "    <tr>\n",
       "      <th>mean</th>\n",
       "      <td>19.140000</td>\n",
       "      <td>33.600000</td>\n",
       "      <td>2.540000</td>\n",
       "      <td>1244.480000</td>\n",
       "      <td>41.172600</td>\n",
       "      <td>2453.5000</td>\n",
       "      <td>50.988600</td>\n",
       "      <td>2.80000</td>\n",
       "      <td>6.180000</td>\n",
       "      <td>2.520000</td>\n",
       "      <td>143.480000</td>\n",
       "      <td>8.880000</td>\n",
       "    </tr>\n",
       "    <tr>\n",
       "      <th>std</th>\n",
       "      <td>5.767644</td>\n",
       "      <td>10.794935</td>\n",
       "      <td>1.567658</td>\n",
       "      <td>492.065171</td>\n",
       "      <td>10.756164</td>\n",
       "      <td>873.8495</td>\n",
       "      <td>7.855288</td>\n",
       "      <td>2.08982</td>\n",
       "      <td>3.108185</td>\n",
       "      <td>1.897797</td>\n",
       "      <td>56.514488</td>\n",
       "      <td>9.815939</td>\n",
       "    </tr>\n",
       "    <tr>\n",
       "      <th>min</th>\n",
       "      <td>7.000000</td>\n",
       "      <td>13.000000</td>\n",
       "      <td>0.000000</td>\n",
       "      <td>723.000000</td>\n",
       "      <td>25.900000</td>\n",
       "      <td>1297.0000</td>\n",
       "      <td>34.290000</td>\n",
       "      <td>0.00000</td>\n",
       "      <td>1.000000</td>\n",
       "      <td>0.000000</td>\n",
       "      <td>63.000000</td>\n",
       "      <td>0.000000</td>\n",
       "    </tr>\n",
       "    <tr>\n",
       "      <th>25%</th>\n",
       "      <td>15.000000</td>\n",
       "      <td>25.500000</td>\n",
       "      <td>1.000000</td>\n",
       "      <td>902.750000</td>\n",
       "      <td>34.230000</td>\n",
       "      <td>1898.2500</td>\n",
       "      <td>46.867500</td>\n",
       "      <td>2.00000</td>\n",
       "      <td>4.000000</td>\n",
       "      <td>1.000000</td>\n",
       "      <td>104.500000</td>\n",
       "      <td>3.250000</td>\n",
       "    </tr>\n",
       "    <tr>\n",
       "      <th>50%</th>\n",
       "      <td>19.000000</td>\n",
       "      <td>32.500000</td>\n",
       "      <td>2.000000</td>\n",
       "      <td>1139.500000</td>\n",
       "      <td>38.935000</td>\n",
       "      <td>2249.0000</td>\n",
       "      <td>51.180000</td>\n",
       "      <td>2.00000</td>\n",
       "      <td>6.000000</td>\n",
       "      <td>2.000000</td>\n",
       "      <td>133.000000</td>\n",
       "      <td>5.000000</td>\n",
       "    </tr>\n",
       "    <tr>\n",
       "      <th>75%</th>\n",
       "      <td>22.000000</td>\n",
       "      <td>39.000000</td>\n",
       "      <td>3.000000</td>\n",
       "      <td>1426.500000</td>\n",
       "      <td>45.097500</td>\n",
       "      <td>2758.2500</td>\n",
       "      <td>55.902500</td>\n",
       "      <td>3.00000</td>\n",
       "      <td>8.000000</td>\n",
       "      <td>4.000000</td>\n",
       "      <td>170.750000</td>\n",
       "      <td>10.750000</td>\n",
       "    </tr>\n",
       "    <tr>\n",
       "      <th>max</th>\n",
       "      <td>39.000000</td>\n",
       "      <td>72.000000</td>\n",
       "      <td>6.000000</td>\n",
       "      <td>3450.000000</td>\n",
       "      <td>67.330000</td>\n",
       "      <td>6039.0000</td>\n",
       "      <td>72.100000</td>\n",
       "      <td>11.00000</td>\n",
       "      <td>13.000000</td>\n",
       "      <td>8.000000</td>\n",
       "      <td>374.000000</td>\n",
       "      <td>55.000000</td>\n",
       "    </tr>\n",
       "  </tbody>\n",
       "</table>\n",
       "</div>"
      ],
      "text/plain": [
       "             Mat       Inns         NO         Runs        Ave         BF  \\\n",
       "count  50.000000  50.000000  50.000000    50.000000  50.000000    50.0000   \n",
       "mean   19.140000  33.600000   2.540000  1244.480000  41.172600  2453.5000   \n",
       "std     5.767644  10.794935   1.567658   492.065171  10.756164   873.8495   \n",
       "min     7.000000  13.000000   0.000000   723.000000  25.900000  1297.0000   \n",
       "25%    15.000000  25.500000   1.000000   902.750000  34.230000  1898.2500   \n",
       "50%    19.000000  32.500000   2.000000  1139.500000  38.935000  2249.0000   \n",
       "75%    22.000000  39.000000   3.000000  1426.500000  45.097500  2758.2500   \n",
       "max    39.000000  72.000000   6.000000  3450.000000  67.330000  6039.0000   \n",
       "\n",
       "              SR       100         50          0          4s         6s  \n",
       "count  50.000000  50.00000  50.000000  50.000000   50.000000  50.000000  \n",
       "mean   50.988600   2.80000   6.180000   2.520000  143.480000   8.880000  \n",
       "std     7.855288   2.08982   3.108185   1.897797   56.514488   9.815939  \n",
       "min    34.290000   0.00000   1.000000   0.000000   63.000000   0.000000  \n",
       "25%    46.867500   2.00000   4.000000   1.000000  104.500000   3.250000  \n",
       "50%    51.180000   2.00000   6.000000   2.000000  133.000000   5.000000  \n",
       "75%    55.902500   3.00000   8.000000   4.000000  170.750000  10.750000  \n",
       "max    72.100000  11.00000  13.000000   8.000000  374.000000  55.000000  "
      ]
     },
     "execution_count": 31,
     "metadata": {},
     "output_type": "execute_result"
    }
   ],
   "source": [
    "#import dataset\n",
    "my_df = pd.read_excel(\"E:/Programming/Datasets/wtc.xlsx\")\n",
    "my_df.describe()"
   ]
  },
  {
   "cell_type": "markdown",
   "metadata": {},
   "source": [
    "Preliminary Analysis"
   ]
  },
  {
   "cell_type": "code",
   "execution_count": 5,
   "metadata": {},
   "outputs": [
    {
     "name": "stdout",
     "output_type": "stream",
     "text": [
      "<class 'pandas.core.frame.DataFrame'>\n",
      "RangeIndex: 50 entries, 0 to 49\n",
      "Data columns (total 15 columns):\n",
      " #   Column  Non-Null Count  Dtype  \n",
      "---  ------  --------------  -----  \n",
      " 0   Player  50 non-null     object \n",
      " 1   Span    50 non-null     object \n",
      " 2   Mat     50 non-null     int64  \n",
      " 3   Inns    50 non-null     int64  \n",
      " 4   NO      50 non-null     int64  \n",
      " 5   Runs    50 non-null     int64  \n",
      " 6   HS      50 non-null     object \n",
      " 7   Ave     50 non-null     float64\n",
      " 8   BF      50 non-null     int64  \n",
      " 9   SR      50 non-null     float64\n",
      " 10  100     50 non-null     int64  \n",
      " 11  50      50 non-null     int64  \n",
      " 12  0       50 non-null     int64  \n",
      " 13  4s      50 non-null     int64  \n",
      " 14  6s      50 non-null     int64  \n",
      "dtypes: float64(2), int64(10), object(3)\n",
      "memory usage: 6.0+ KB\n"
     ]
    }
   ],
   "source": [
    "my_df.info()"
   ]
  },
  {
   "attachments": {},
   "cell_type": "markdown",
   "metadata": {},
   "source": [
    "Inference: <br>\n",
    "Everything except the highscore are in there right datatypes. Here the high score value won't matter because it is not effective in calculating the runs"
   ]
  },
  {
   "cell_type": "code",
   "execution_count": 6,
   "metadata": {},
   "outputs": [
    {
     "data": {
      "text/plain": [
       "Player    0\n",
       "Span      0\n",
       "Mat       0\n",
       "Inns      0\n",
       "NO        0\n",
       "Runs      0\n",
       "HS        0\n",
       "Ave       0\n",
       "BF        0\n",
       "SR        0\n",
       "100       0\n",
       "50        0\n",
       "0         0\n",
       "4s        0\n",
       "6s        0\n",
       "dtype: int64"
      ]
     },
     "execution_count": 6,
     "metadata": {},
     "output_type": "execute_result"
    }
   ],
   "source": [
    "my_df.isna().sum()"
   ]
  },
  {
   "attachments": {},
   "cell_type": "markdown",
   "metadata": {},
   "source": [
    "Inference: <br>\n",
    "There are no null values in the dataset"
   ]
  },
  {
   "attachments": {},
   "cell_type": "markdown",
   "metadata": {},
   "source": [
    "## PreProcessing the data"
   ]
  },
  {
   "cell_type": "code",
   "execution_count": 32,
   "metadata": {},
   "outputs": [],
   "source": [
    "columns_to_keep = [\"Inns\", \"BF\", \"100\", \"50\", \"0\", \"4s\", \"6s\", \"NO\", \"Runs\"]"
   ]
  },
  {
   "cell_type": "code",
   "execution_count": 33,
   "metadata": {},
   "outputs": [
    {
     "data": {
      "text/html": [
       "<div>\n",
       "<style scoped>\n",
       "    .dataframe tbody tr th:only-of-type {\n",
       "        vertical-align: middle;\n",
       "    }\n",
       "\n",
       "    .dataframe tbody tr th {\n",
       "        vertical-align: top;\n",
       "    }\n",
       "\n",
       "    .dataframe thead th {\n",
       "        text-align: right;\n",
       "    }\n",
       "</style>\n",
       "<table border=\"1\" class=\"dataframe\">\n",
       "  <thead>\n",
       "    <tr style=\"text-align: right;\">\n",
       "      <th></th>\n",
       "      <th>Inns</th>\n",
       "      <th>BF</th>\n",
       "      <th>100</th>\n",
       "      <th>50</th>\n",
       "      <th>0</th>\n",
       "      <th>4s</th>\n",
       "      <th>6s</th>\n",
       "      <th>NO</th>\n",
       "      <th>Runs</th>\n",
       "    </tr>\n",
       "  </thead>\n",
       "  <tbody>\n",
       "    <tr>\n",
       "      <th>Inns</th>\n",
       "      <td>1.000000</td>\n",
       "      <td>0.769986</td>\n",
       "      <td>0.413420</td>\n",
       "      <td>0.606175</td>\n",
       "      <td>0.453657</td>\n",
       "      <td>0.812004</td>\n",
       "      <td>0.235663</td>\n",
       "      <td>0.275923</td>\n",
       "      <td>0.785817</td>\n",
       "    </tr>\n",
       "    <tr>\n",
       "      <th>BF</th>\n",
       "      <td>0.769986</td>\n",
       "      <td>1.000000</td>\n",
       "      <td>0.668293</td>\n",
       "      <td>0.734825</td>\n",
       "      <td>0.280836</td>\n",
       "      <td>0.879332</td>\n",
       "      <td>0.097170</td>\n",
       "      <td>0.165803</td>\n",
       "      <td>0.915321</td>\n",
       "    </tr>\n",
       "    <tr>\n",
       "      <th>100</th>\n",
       "      <td>0.413420</td>\n",
       "      <td>0.668293</td>\n",
       "      <td>1.000000</td>\n",
       "      <td>0.285282</td>\n",
       "      <td>-0.076157</td>\n",
       "      <td>0.757506</td>\n",
       "      <td>0.347008</td>\n",
       "      <td>0.208061</td>\n",
       "      <td>0.812312</td>\n",
       "    </tr>\n",
       "    <tr>\n",
       "      <th>50</th>\n",
       "      <td>0.606175</td>\n",
       "      <td>0.734825</td>\n",
       "      <td>0.285282</td>\n",
       "      <td>1.000000</td>\n",
       "      <td>0.035705</td>\n",
       "      <td>0.672189</td>\n",
       "      <td>0.030154</td>\n",
       "      <td>0.142991</td>\n",
       "      <td>0.694559</td>\n",
       "    </tr>\n",
       "    <tr>\n",
       "      <th>0</th>\n",
       "      <td>0.453657</td>\n",
       "      <td>0.280836</td>\n",
       "      <td>-0.076157</td>\n",
       "      <td>0.035705</td>\n",
       "      <td>1.000000</td>\n",
       "      <td>0.198181</td>\n",
       "      <td>-0.238693</td>\n",
       "      <td>-0.020853</td>\n",
       "      <td>0.151219</td>\n",
       "    </tr>\n",
       "    <tr>\n",
       "      <th>4s</th>\n",
       "      <td>0.812004</td>\n",
       "      <td>0.879332</td>\n",
       "      <td>0.757506</td>\n",
       "      <td>0.672189</td>\n",
       "      <td>0.198181</td>\n",
       "      <td>1.000000</td>\n",
       "      <td>0.243940</td>\n",
       "      <td>0.182218</td>\n",
       "      <td>0.971589</td>\n",
       "    </tr>\n",
       "    <tr>\n",
       "      <th>6s</th>\n",
       "      <td>0.235663</td>\n",
       "      <td>0.097170</td>\n",
       "      <td>0.347008</td>\n",
       "      <td>0.030154</td>\n",
       "      <td>-0.238693</td>\n",
       "      <td>0.243940</td>\n",
       "      <td>1.000000</td>\n",
       "      <td>0.227105</td>\n",
       "      <td>0.282891</td>\n",
       "    </tr>\n",
       "    <tr>\n",
       "      <th>NO</th>\n",
       "      <td>0.275923</td>\n",
       "      <td>0.165803</td>\n",
       "      <td>0.208061</td>\n",
       "      <td>0.142991</td>\n",
       "      <td>-0.020853</td>\n",
       "      <td>0.182218</td>\n",
       "      <td>0.227105</td>\n",
       "      <td>1.000000</td>\n",
       "      <td>0.256046</td>\n",
       "    </tr>\n",
       "    <tr>\n",
       "      <th>Runs</th>\n",
       "      <td>0.785817</td>\n",
       "      <td>0.915321</td>\n",
       "      <td>0.812312</td>\n",
       "      <td>0.694559</td>\n",
       "      <td>0.151219</td>\n",
       "      <td>0.971589</td>\n",
       "      <td>0.282891</td>\n",
       "      <td>0.256046</td>\n",
       "      <td>1.000000</td>\n",
       "    </tr>\n",
       "  </tbody>\n",
       "</table>\n",
       "</div>"
      ],
      "text/plain": [
       "          Inns        BF       100        50         0        4s        6s  \\\n",
       "Inns  1.000000  0.769986  0.413420  0.606175  0.453657  0.812004  0.235663   \n",
       "BF    0.769986  1.000000  0.668293  0.734825  0.280836  0.879332  0.097170   \n",
       "100   0.413420  0.668293  1.000000  0.285282 -0.076157  0.757506  0.347008   \n",
       "50    0.606175  0.734825  0.285282  1.000000  0.035705  0.672189  0.030154   \n",
       "0     0.453657  0.280836 -0.076157  0.035705  1.000000  0.198181 -0.238693   \n",
       "4s    0.812004  0.879332  0.757506  0.672189  0.198181  1.000000  0.243940   \n",
       "6s    0.235663  0.097170  0.347008  0.030154 -0.238693  0.243940  1.000000   \n",
       "NO    0.275923  0.165803  0.208061  0.142991 -0.020853  0.182218  0.227105   \n",
       "Runs  0.785817  0.915321  0.812312  0.694559  0.151219  0.971589  0.282891   \n",
       "\n",
       "            NO      Runs  \n",
       "Inns  0.275923  0.785817  \n",
       "BF    0.165803  0.915321  \n",
       "100   0.208061  0.812312  \n",
       "50    0.142991  0.694559  \n",
       "0    -0.020853  0.151219  \n",
       "4s    0.182218  0.971589  \n",
       "6s    0.227105  0.282891  \n",
       "NO    1.000000  0.256046  \n",
       "Runs  0.256046  1.000000  "
      ]
     },
     "execution_count": 33,
     "metadata": {},
     "output_type": "execute_result"
    }
   ],
   "source": [
    "new_df = my_df[columns_to_keep]\n",
    "corr_df = new_df.corr()\n",
    "corr_df"
   ]
  },
  {
   "cell_type": "code",
   "execution_count": 9,
   "metadata": {},
   "outputs": [
    {
     "data": {
      "text/plain": [
       "<AxesSubplot: >"
      ]
     },
     "execution_count": 9,
     "metadata": {},
     "output_type": "execute_result"
    },
    {
     "data": {
      "image/png": "[encoded data removed]",
      "text/plain": [
       "<Figure size 640x480 with 2 Axes>"
      ]
     },
     "metadata": {},
     "output_type": "display_data"
    }
   ],
   "source": [
    "sns.heatmap(corr_df, linecolor = \"black\")"
   ]
  },
  {
   "attachments": {},
   "cell_type": "markdown",
   "metadata": {},
   "source": [
    "Inference: <br>\n",
    "There is no auto correlation in the value of predictors but there is some presence of multicolinearity"
   ]
  },
  {
   "cell_type": "markdown",
   "metadata": {},
   "source": [
    "Checking for outliers"
   ]
  },
  {
   "cell_type": "code",
   "execution_count": 34,
   "metadata": {},
   "outputs": [
    {
     "data": {
      "text/plain": [
       "<AxesSubplot: xlabel='NO'>"
      ]
     },
     "execution_count": 34,
     "metadata": {},
     "output_type": "execute_result"
    },
    {
     "data": {
      "image/png": "[encoded data removed]",
      "text/plain": [
       "<Figure size 1800x1000 with 8 Axes>"
      ]
     },
     "metadata": {},
     "output_type": "display_data"
    }
   ],
   "source": [
    "fig, axes = plt.subplots(4, 2, figsize=(18, 10))\n",
    "\n",
    "fig.suptitle('Checking for any significant outliers')\n",
    "\n",
    "a = 0\n",
    "b = 0\n",
    "\n",
    "#for x in new_df:\n",
    "\n",
    "    #sns.boxplot(ax = axes[a, b], data = new_df, x = x)\n",
    "\n",
    "    # += 1\n",
    "\n",
    "    #if(b == 2):\n",
    "        #a += 1\n",
    "        #b = 0\n",
    "\n",
    "\n",
    "sns.boxplot(ax=axes[0, 0], data = new_df, x ='Inns')\n",
    "sns.boxplot(ax=axes[0, 1], data= new_df, x = 'BF')\n",
    "sns.boxplot(ax=axes[1, 0], data = new_df, x = '100')\n",
    "sns.boxplot(ax=axes[1, 1], data = new_df, x = '50')\n",
    "sns.boxplot(ax=axes[2, 0], data = new_df, x = '4s')\n",
    "sns.boxplot(ax=axes[2, 1], data = new_df, x = '6s')\n",
    "sns.boxplot(ax=axes[3, 0], data = new_df, x = 'NO')"
   ]
  },
  {
   "cell_type": "markdown",
   "metadata": {},
   "source": [
    "Inference: <br>\n",
    "Outliers were seen in balls faced and 6s but we cannot take out the outliers as in this context they are dominant to determine the runs scored by a player"
   ]
  },
  {
   "cell_type": "markdown",
   "metadata": {},
   "source": [
    "Defining Independent and dependent variables"
   ]
  },
  {
   "cell_type": "code",
   "execution_count": 37,
   "metadata": {},
   "outputs": [],
   "source": [
    "X = new_df[columns_to_keep[:-1]]\n",
    "\n",
    "Y = my_df.Runs"
   ]
  },
  {
   "cell_type": "code",
   "execution_count": 38,
   "metadata": {},
   "outputs": [
    {
     "data": {
      "text/html": [
       "<div>\n",
       "<style scoped>\n",
       "    .dataframe tbody tr th:only-of-type {\n",
       "        vertical-align: middle;\n",
       "    }\n",
       "\n",
       "    .dataframe tbody tr th {\n",
       "        vertical-align: top;\n",
       "    }\n",
       "\n",
       "    .dataframe thead th {\n",
       "        text-align: right;\n",
       "    }\n",
       "</style>\n",
       "<table border=\"1\" class=\"dataframe\">\n",
       "  <thead>\n",
       "    <tr style=\"text-align: right;\">\n",
       "      <th></th>\n",
       "      <th>Inns</th>\n",
       "      <th>BF</th>\n",
       "      <th>100</th>\n",
       "      <th>50</th>\n",
       "      <th>0</th>\n",
       "      <th>4s</th>\n",
       "      <th>6s</th>\n",
       "      <th>NO</th>\n",
       "    </tr>\n",
       "  </thead>\n",
       "  <tbody>\n",
       "    <tr>\n",
       "      <th>0</th>\n",
       "      <td>72</td>\n",
       "      <td>6039</td>\n",
       "      <td>11</td>\n",
       "      <td>13</td>\n",
       "      <td>6</td>\n",
       "      <td>374</td>\n",
       "      <td>8</td>\n",
       "      <td>6</td>\n",
       "    </tr>\n",
       "    <tr>\n",
       "      <th>1</th>\n",
       "      <td>40</td>\n",
       "      <td>4206</td>\n",
       "      <td>7</td>\n",
       "      <td>12</td>\n",
       "      <td>2</td>\n",
       "      <td>260</td>\n",
       "      <td>6</td>\n",
       "      <td>1</td>\n",
       "    </tr>\n",
       "    <tr>\n",
       "      <th>2</th>\n",
       "      <td>58</td>\n",
       "      <td>3659</td>\n",
       "      <td>6</td>\n",
       "      <td>10</td>\n",
       "      <td>1</td>\n",
       "      <td>231</td>\n",
       "      <td>55</td>\n",
       "      <td>4</td>\n",
       "    </tr>\n",
       "    <tr>\n",
       "      <th>3</th>\n",
       "      <td>37</td>\n",
       "      <td>3920</td>\n",
       "      <td>5</td>\n",
       "      <td>12</td>\n",
       "      <td>3</td>\n",
       "      <td>216</td>\n",
       "      <td>9</td>\n",
       "      <td>2</td>\n",
       "    </tr>\n",
       "    <tr>\n",
       "      <th>4</th>\n",
       "      <td>33</td>\n",
       "      <td>3438</td>\n",
       "      <td>6</td>\n",
       "      <td>12</td>\n",
       "      <td>0</td>\n",
       "      <td>215</td>\n",
       "      <td>11</td>\n",
       "      <td>4</td>\n",
       "    </tr>\n",
       "  </tbody>\n",
       "</table>\n",
       "</div>"
      ],
      "text/plain": [
       "   Inns    BF  100  50  0   4s  6s  NO\n",
       "0    72  6039   11  13  6  374   8   6\n",
       "1    40  4206    7  12  2  260   6   1\n",
       "2    58  3659    6  10  1  231  55   4\n",
       "3    37  3920    5  12  3  216   9   2\n",
       "4    33  3438    6  12  0  215  11   4"
      ]
     },
     "execution_count": 38,
     "metadata": {},
     "output_type": "execute_result"
    }
   ],
   "source": [
    "X.head()"
   ]
  },
  {
   "cell_type": "code",
   "execution_count": 39,
   "metadata": {},
   "outputs": [
    {
     "data": {
      "text/plain": [
       "0    3450\n",
       "1    2329\n",
       "2    2132\n",
       "3    1962\n",
       "4    1885\n",
       "Name: Runs, dtype: int64"
      ]
     },
     "execution_count": 39,
     "metadata": {},
     "output_type": "execute_result"
    }
   ],
   "source": [
    "Y.head()"
   ]
  },
  {
   "cell_type": "markdown",
   "metadata": {},
   "source": [
    "Checking the scales of the features"
   ]
  },
  {
   "cell_type": "code",
   "execution_count": 40,
   "metadata": {},
   "outputs": [
    {
     "data": {
      "text/plain": [
       "<seaborn.axisgrid.JointGrid at 0x20226cf8710>"
      ]
     },
     "execution_count": 40,
     "metadata": {},
     "output_type": "execute_result"
    },
    {
     "data": {
      "image/png": "[encoded data removed]",
      "text/plain": [
       "<Figure size 600x600 with 3 Axes>"
      ]
     },
     "metadata": {},
     "output_type": "display_data"
    }
   ],
   "source": [
    "sns.jointplot(new_df)"
   ]
  },
  {
   "cell_type": "markdown",
   "metadata": {},
   "source": [
    "Inference: We need to standardize the graph"
   ]
  },
  {
   "cell_type": "code",
   "execution_count": 41,
   "metadata": {},
   "outputs": [],
   "source": [
    "mean_square = []\n",
    "mean_square_training = []\n",
    "r2 = []\n",
    "r2_train = []"
   ]
  },
  {
   "cell_type": "code",
   "execution_count": 42,
   "metadata": {},
   "outputs": [],
   "source": [
    "def predicting(X, Y):\n",
    "\n",
    "    for i in range(1, 101):\n",
    "\n",
    "        X_train, X_test, Y_train, Y_test = train_test_split(X, Y, train_size = 0.9, test_size = 0.1, random_state = i)\n",
    "\n",
    "        standardizer = StandardScaler()\n",
    "        standard_x_train = pd.DataFrame(standardizer.fit_transform(X_train), columns = columns_to_keep[:-1])\n",
    "        standard_X_train = pd.DataFrame(standardizer.fit_transform(X_test), columns = columns_to_keep[:-1])\n",
    "\n",
    "        regression_model = LinearRegression()\n",
    "\n",
    "        regression_model.fit(X_train, Y_train)\n",
    "\n",
    "        y_predicted = regression_model.predict(X_test)\n",
    "        y_train_prediction = regression_model.predict(X_train)\n",
    "\n",
    "        mean_square.append(math.sqrt(mean_squared_error(Y_test, y_predicted)))\n",
    "        mean_square_training.append(math.sqrt(mean_squared_error(Y_train, y_train_prediction)))\n",
    "\n",
    "        r2.append(r2_score(Y_test, y_predicted))\n",
    "        r2_train.append(r2_score(Y_train, y_train_prediction))"
   ]
  },
  {
   "cell_type": "code",
   "execution_count": 43,
   "metadata": {},
   "outputs": [],
   "source": [
    "predicting(X, Y)"
   ]
  },
  {
   "cell_type": "code",
   "execution_count": 44,
   "metadata": {},
   "outputs": [
    {
     "data": {
      "text/plain": [
       "23.94445820401176"
      ]
     },
     "execution_count": 44,
     "metadata": {},
     "output_type": "execute_result"
    }
   ],
   "source": [
    "min(mean_square)"
   ]
  },
  {
   "cell_type": "code",
   "execution_count": 45,
   "metadata": {},
   "outputs": [
    {
     "data": {
      "text/plain": [
       "57"
      ]
     },
     "execution_count": 45,
     "metadata": {},
     "output_type": "execute_result"
    }
   ],
   "source": [
    "mean_square.index(min(mean_square))"
   ]
  },
  {
   "cell_type": "code",
   "execution_count": 46,
   "metadata": {},
   "outputs": [
    {
     "data": {
      "text/plain": [
       "0.9967107514200072"
      ]
     },
     "execution_count": 46,
     "metadata": {},
     "output_type": "execute_result"
    }
   ],
   "source": [
    "r2[57]"
   ]
  },
  {
   "cell_type": "markdown",
   "metadata": {},
   "source": [
    "Splitting the data "
   ]
  },
  {
   "cell_type": "code",
   "execution_count": 47,
   "metadata": {},
   "outputs": [],
   "source": [
    "X_train, X_test, Y_train, Y_test = train_test_split(X, Y, train_size = 0.9, test_size = 0.1, random_state = 58)"
   ]
  },
  {
   "cell_type": "markdown",
   "metadata": {},
   "source": [
    "Inference: <br>\n",
    "The data is Split "
   ]
  },
  {
   "cell_type": "markdown",
   "metadata": {},
   "source": [
    "Standardizing the data "
   ]
  },
  {
   "cell_type": "code",
   "execution_count": 48,
   "metadata": {},
   "outputs": [],
   "source": [
    "standardizer = StandardScaler()\n",
    "standard_x_train = pd.DataFrame(standardizer.fit_transform(X_train), columns = columns_to_keep[:-1])\n",
    "standard_X_train = pd.DataFrame(standardizer.fit_transform(X_test), columns = columns_to_keep[:-1])"
   ]
  },
  {
   "cell_type": "code",
   "execution_count": 49,
   "metadata": {},
   "outputs": [],
   "source": [
    "regression_model = LinearRegression()"
   ]
  },
  {
   "cell_type": "code",
   "execution_count": 50,
   "metadata": {},
   "outputs": [
    {
     "data": {
      "text/html": [
       "<style>#sk-container-id-2 {color: black;background-color: white;}#sk-container-id-2 pre{padding: 0;}#sk-container-id-2 div.sk-toggleable {background-color: white;}#sk-container-id-2 label.sk-toggleable__label {cursor: pointer;display: block;width: 100%;margin-bottom: 0;padding: 0.3em;box-sizing: border-box;text-align: center;}#sk-container-id-2 label.sk-toggleable__label-arrow:before {content: \"▸\";float: left;margin-right: 0.25em;color: #696969;}#sk-container-id-2 label.sk-toggleable__label-arrow:hover:before {color: black;}#sk-container-id-2 div.sk-estimator:hover label.sk-toggleable__label-arrow:before {color: black;}#sk-container-id-2 div.sk-toggleable__content {max-height: 0;max-width: 0;overflow: hidden;text-align: left;background-color: #f0f8ff;}#sk-container-id-2 div.sk-toggleable__content pre {margin: 0.2em;color: black;border-radius: 0.25em;background-color: #f0f8ff;}#sk-container-id-2 input.sk-toggleable__control:checked~div.sk-toggleable__content {max-height: 200px;max-width: 100%;overflow: auto;}#sk-container-id-2 input.sk-toggleable__control:checked~label.sk-toggleable__label-arrow:before {content: \"▾\";}#sk-container-id-2 div.sk-estimator input.sk-toggleable__control:checked~label.sk-toggleable__label {background-color: #d4ebff;}#sk-container-id-2 div.sk-label input.sk-toggleable__control:checked~label.sk-toggleable__label {background-color: #d4ebff;}#sk-container-id-2 input.sk-hidden--visually {border: 0;clip: rect(1px 1px 1px 1px);clip: rect(1px, 1px, 1px, 1px);height: 1px;margin: -1px;overflow: hidden;padding: 0;position: absolute;width: 1px;}#sk-container-id-2 div.sk-estimator {font-family: monospace;background-color: #f0f8ff;border: 1px dotted black;border-radius: 0.25em;box-sizing: border-box;margin-bottom: 0.5em;}#sk-container-id-2 div.sk-estimator:hover {background-color: #d4ebff;}#sk-container-id-2 div.sk-parallel-item::after {content: \"\";width: 100%;border-bottom: 1px solid gray;flex-grow: 1;}#sk-container-id-2 div.sk-label:hover label.sk-toggleable__label {background-color: #d4ebff;}#sk-container-id-2 div.sk-serial::before {content: \"\";position: absolute;border-left: 1px solid gray;box-sizing: border-box;top: 0;bottom: 0;left: 50%;z-index: 0;}#sk-container-id-2 div.sk-serial {display: flex;flex-direction: column;align-items: center;background-color: white;padding-right: 0.2em;padding-left: 0.2em;position: relative;}#sk-container-id-2 div.sk-item {position: relative;z-index: 1;}#sk-container-id-2 div.sk-parallel {display: flex;align-items: stretch;justify-content: center;background-color: white;position: relative;}#sk-container-id-2 div.sk-item::before, #sk-container-id-2 div.sk-parallel-item::before {content: \"\";position: absolute;border-left: 1px solid gray;box-sizing: border-box;top: 0;bottom: 0;left: 50%;z-index: -1;}#sk-container-id-2 div.sk-parallel-item {display: flex;flex-direction: column;z-index: 1;position: relative;background-color: white;}#sk-container-id-2 div.sk-parallel-item:first-child::after {align-self: flex-end;width: 50%;}#sk-container-id-2 div.sk-parallel-item:last-child::after {align-self: flex-start;width: 50%;}#sk-container-id-2 div.sk-parallel-item:only-child::after {width: 0;}#sk-container-id-2 div.sk-dashed-wrapped {border: 1px dashed gray;margin: 0 0.4em 0.5em 0.4em;box-sizing: border-box;padding-bottom: 0.4em;background-color: white;}#sk-container-id-2 div.sk-label label {font-family: monospace;font-weight: bold;display: inline-block;line-height: 1.2em;}#sk-container-id-2 div.sk-label-container {text-align: center;}#sk-container-id-2 div.sk-container {/* jupyter's `normalize.less` sets `[hidden] { display: none; }` but bootstrap.min.css set `[hidden] { display: none !important; }` so we also need the `!important` here to be able to override the default hidden behavior on the sphinx rendered scikit-learn.org. See: https://github.com/scikit-learn/scikit-learn/issues/21755 */display: inline-block !important;position: relative;}#sk-container-id-2 div.sk-text-repr-fallback {display: none;}</style><div id=\"sk-container-id-2\" class=\"sk-top-container\"><div class=\"sk-text-repr-fallback\"><pre>LinearRegression()</pre><b>In a Jupyter environment, please rerun this cell to show the HTML representation or trust the notebook. <br />On GitHub, the HTML representation is unable to render, please try loading this page with nbviewer.org.</b></div><div class=\"sk-container\" hidden><div class=\"sk-item\"><div class=\"sk-estimator sk-toggleable\"><input class=\"sk-toggleable__control sk-hidden--visually\" id=\"sk-estimator-id-2\" type=\"checkbox\" checked><label for=\"sk-estimator-id-2\" class=\"sk-toggleable__label sk-toggleable__label-arrow\">LinearRegression</label><div class=\"sk-toggleable__content\"><pre>LinearRegression()</pre></div></div></div></div></div>"
      ],
      "text/plain": [
       "LinearRegression()"
      ]
     },
     "execution_count": 50,
     "metadata": {},
     "output_type": "execute_result"
    }
   ],
   "source": [
    "regression_model.fit(X_train, Y_train)"
   ]
  },
  {
   "cell_type": "code",
   "execution_count": 51,
   "metadata": {},
   "outputs": [],
   "source": [
    "y_predicted = regression_model.predict(X_test)\n",
    "y_train_prediction = regression_model.predict(X_train)"
   ]
  },
  {
   "cell_type": "code",
   "execution_count": 52,
   "metadata": {},
   "outputs": [
    {
     "data": {
      "text/plain": [
       "0.9967107514200072"
      ]
     },
     "execution_count": 52,
     "metadata": {},
     "output_type": "execute_result"
    }
   ],
   "source": [
    "regression_model.score(X_test, Y_test)"
   ]
  },
  {
   "cell_type": "code",
   "execution_count": 53,
   "metadata": {},
   "outputs": [],
   "source": [
    "mean_square = mean_squared_error(Y_test, y_predicted)\n",
    "mean_square_training = mean_squared_error(Y_train, y_train_prediction)\n",
    "\n",
    "r2 = r2_score(Y_test, y_predicted)\n",
    "r2_train = r2_score(Y_train, y_train_prediction)"
   ]
  },
  {
   "cell_type": "code",
   "execution_count": 54,
   "metadata": {},
   "outputs": [
    {
     "name": "stdout",
     "output_type": "stream",
     "text": [
      "The root mean squared error for the predicted values is: 23.94445820401176\n",
      "The root mean squared error the training model: 61.66657396578051\n",
      "\n",
      "--------------------------------------------------------------------------------------------\n",
      "\n",
      "The R squared value of the model is predicted model is: 0.9967107514200072\n",
      "The squared value of the training model is: 0.9843991580710023\n"
     ]
    }
   ],
   "source": [
    "print(f\"The root mean squared error for the predicted values is: {math.sqrt(mean_square)}\")\n",
    "print(f\"The root mean squared error the training model: {math.sqrt(mean_square_training)}\")\n",
    "\n",
    "print()\n",
    "\n",
    "print(\"--------------------------------------------------------------------------------------------\")\n",
    "\n",
    "print()\n",
    "\n",
    "print(f\"The R squared value of the model is predicted model is: {r2}\")\n",
    "print(f\"The squared value of the training model is: {r2_train}\")"
   ]
  }
 ],
 "metadata": {
  "kernelspec": {
   "display_name": "Python 3",
   "language": "python",
   "name": "python3"
  },
  "language_info": {
   "codemirror_mode": {
    "name": "ipython",
    "version": 3
   },
   "file_extension": ".py",
   "mimetype": "text/x-python",
   "name": "python",
   "nbconvert_exporter": "python",
   "pygments_lexer": "ipython3",
   "version": "3.11.1"
  },
  "orig_nbformat": 4,
  "vscode": {
   "interpreter": {
    "hash": "1f6a27bcfbe46a917dbd192f4a82657396dda26148bae633192e8d28c70725f1"
   }
  }
 },
 "nbformat": 4,
 "nbformat_minor": 2
}
